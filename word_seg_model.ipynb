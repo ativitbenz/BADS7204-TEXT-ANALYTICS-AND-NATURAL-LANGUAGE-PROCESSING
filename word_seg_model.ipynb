{
 "cells": [
  {
   "cell_type": "markdown",
   "metadata": {},
   "source": [
    "# Word Segmentation with CNN"
   ]
  },
  {
   "cell_type": "code",
   "execution_count": 1,
   "metadata": {},
   "outputs": [
    {
     "name": "stdout",
     "output_type": "stream",
     "text": [
      "3.7.9\n"
     ]
    }
   ],
   "source": [
    "from platform import python_version\n",
    "\n",
    "print(python_version())"
   ]
  },
  {
   "cell_type": "markdown",
   "metadata": {},
   "source": [
    "## Library and class definition"
   ]
  },
  {
   "cell_type": "markdown",
   "metadata": {},
   "source": [
    "### Import library"
   ]
  },
  {
   "cell_type": "code",
   "execution_count": 2,
   "metadata": {
    "tags": []
   },
   "outputs": [
    {
     "name": "stdout",
     "output_type": "stream",
     "text": [
      "Requirement already satisfied: tf2crf in /Library/Frameworks/Python.framework/Versions/3.7/lib/python3.7/site-packages (0.1.29)\n",
      "Requirement already satisfied: tensorflow>=2.1.0 in /Users/benzativit/Library/Python/3.7/lib/python/site-packages (from tf2crf) (2.4.1)\n",
      "Requirement already satisfied: tensorflow-addons>=0.8.2 in /Library/Frameworks/Python.framework/Versions/3.7/lib/python3.7/site-packages (from tf2crf) (0.12.1)\n",
      "Requirement already satisfied: keras-preprocessing~=1.1.2 in /Users/benzativit/Library/Python/3.7/lib/python/site-packages (from tensorflow>=2.1.0->tf2crf) (1.1.2)\n",
      "Requirement already satisfied: tensorboard~=2.4 in /Users/benzativit/Library/Python/3.7/lib/python/site-packages (from tensorflow>=2.1.0->tf2crf) (2.4.1)\n",
      "Requirement already satisfied: opt-einsum~=3.3.0 in /Users/benzativit/Library/Python/3.7/lib/python/site-packages (from tensorflow>=2.1.0->tf2crf) (3.3.0)\n",
      "Requirement already satisfied: gast==0.3.3 in /Users/benzativit/Library/Python/3.7/lib/python/site-packages (from tensorflow>=2.1.0->tf2crf) (0.3.3)\n",
      "Requirement already satisfied: typing-extensions~=3.7.4 in /Users/benzativit/Library/Python/3.7/lib/python/site-packages (from tensorflow>=2.1.0->tf2crf) (3.7.4.3)\n",
      "Requirement already satisfied: wheel~=0.35 in /Users/benzativit/Library/Python/3.7/lib/python/site-packages (from tensorflow>=2.1.0->tf2crf) (0.36.2)\n",
      "Collecting numpy~=1.19.2\n",
      "  Using cached numpy-1.19.5-cp37-cp37m-macosx_10_9_x86_64.whl (15.6 MB)\n",
      "Requirement already satisfied: grpcio~=1.32.0 in /Users/benzativit/Library/Python/3.7/lib/python/site-packages (from tensorflow>=2.1.0->tf2crf) (1.32.0)\n",
      "Requirement already satisfied: flatbuffers~=1.12.0 in /Users/benzativit/Library/Python/3.7/lib/python/site-packages (from tensorflow>=2.1.0->tf2crf) (1.12)\n",
      "Requirement already satisfied: wrapt~=1.12.1 in /Users/benzativit/Library/Python/3.7/lib/python/site-packages (from tensorflow>=2.1.0->tf2crf) (1.12.1)\n",
      "Requirement already satisfied: google-pasta~=0.2 in /Users/benzativit/Library/Python/3.7/lib/python/site-packages (from tensorflow>=2.1.0->tf2crf) (0.2.0)\n",
      "Requirement already satisfied: h5py~=2.10.0 in /Users/benzativit/Library/Python/3.7/lib/python/site-packages (from tensorflow>=2.1.0->tf2crf) (2.10.0)\n",
      "Requirement already satisfied: termcolor~=1.1.0 in /Users/benzativit/Library/Python/3.7/lib/python/site-packages (from tensorflow>=2.1.0->tf2crf) (1.1.0)\n",
      "Requirement already satisfied: astunparse~=1.6.3 in /Users/benzativit/Library/Python/3.7/lib/python/site-packages (from tensorflow>=2.1.0->tf2crf) (1.6.3)\n",
      "Requirement already satisfied: tensorflow-estimator<2.5.0,>=2.4.0 in /Users/benzativit/Library/Python/3.7/lib/python/site-packages (from tensorflow>=2.1.0->tf2crf) (2.4.0)\n",
      "Requirement already satisfied: six~=1.15.0 in /Library/Frameworks/Python.framework/Versions/3.7/lib/python3.7/site-packages (from tensorflow>=2.1.0->tf2crf) (1.15.0)\n",
      "Requirement already satisfied: absl-py~=0.10 in /Users/benzativit/Library/Python/3.7/lib/python/site-packages (from tensorflow>=2.1.0->tf2crf) (0.11.0)\n",
      "Requirement already satisfied: protobuf>=3.9.2 in /Users/benzativit/Library/Python/3.7/lib/python/site-packages (from tensorflow>=2.1.0->tf2crf) (3.15.3)\n",
      "Requirement already satisfied: werkzeug>=0.11.15 in /Users/benzativit/Library/Python/3.7/lib/python/site-packages (from tensorboard~=2.4->tensorflow>=2.1.0->tf2crf) (1.0.1)\n",
      "Requirement already satisfied: google-auth<2,>=1.6.3 in /Users/benzativit/Library/Python/3.7/lib/python/site-packages (from tensorboard~=2.4->tensorflow>=2.1.0->tf2crf) (1.27.0)\n",
      "Requirement already satisfied: requests<3,>=2.21.0 in /Library/Frameworks/Python.framework/Versions/3.7/lib/python3.7/site-packages (from tensorboard~=2.4->tensorflow>=2.1.0->tf2crf) (2.25.1)\n",
      "Requirement already satisfied: setuptools>=41.0.0 in /Library/Frameworks/Python.framework/Versions/3.7/lib/python3.7/site-packages (from tensorboard~=2.4->tensorflow>=2.1.0->tf2crf) (47.1.0)\n",
      "Requirement already satisfied: google-auth-oauthlib<0.5,>=0.4.1 in /Users/benzativit/Library/Python/3.7/lib/python/site-packages (from tensorboard~=2.4->tensorflow>=2.1.0->tf2crf) (0.4.2)\n",
      "Requirement already satisfied: markdown>=2.6.8 in /Users/benzativit/Library/Python/3.7/lib/python/site-packages (from tensorboard~=2.4->tensorflow>=2.1.0->tf2crf) (3.3.4)\n",
      "Requirement already satisfied: tensorboard-plugin-wit>=1.6.0 in /Users/benzativit/Library/Python/3.7/lib/python/site-packages (from tensorboard~=2.4->tensorflow>=2.1.0->tf2crf) (1.8.0)\n",
      "Requirement already satisfied: rsa<5,>=3.1.4 in /Users/benzativit/Library/Python/3.7/lib/python/site-packages (from google-auth<2,>=1.6.3->tensorboard~=2.4->tensorflow>=2.1.0->tf2crf) (4.7.2)\n",
      "Requirement already satisfied: pyasn1-modules>=0.2.1 in /Users/benzativit/Library/Python/3.7/lib/python/site-packages (from google-auth<2,>=1.6.3->tensorboard~=2.4->tensorflow>=2.1.0->tf2crf) (0.2.8)\n",
      "Requirement already satisfied: cachetools<5.0,>=2.0.0 in /Users/benzativit/Library/Python/3.7/lib/python/site-packages (from google-auth<2,>=1.6.3->tensorboard~=2.4->tensorflow>=2.1.0->tf2crf) (4.2.1)\n",
      "Requirement already satisfied: requests-oauthlib>=0.7.0 in /Users/benzativit/Library/Python/3.7/lib/python/site-packages (from google-auth-oauthlib<0.5,>=0.4.1->tensorboard~=2.4->tensorflow>=2.1.0->tf2crf) (1.3.0)\n",
      "Requirement already satisfied: importlib-metadata in /Users/benzativit/Library/Python/3.7/lib/python/site-packages (from markdown>=2.6.8->tensorboard~=2.4->tensorflow>=2.1.0->tf2crf) (3.4.0)\n",
      "Requirement already satisfied: pyasn1<0.5.0,>=0.4.6 in /Users/benzativit/Library/Python/3.7/lib/python/site-packages (from pyasn1-modules>=0.2.1->google-auth<2,>=1.6.3->tensorboard~=2.4->tensorflow>=2.1.0->tf2crf) (0.4.8)\n",
      "Requirement already satisfied: chardet<5,>=3.0.2 in /Library/Frameworks/Python.framework/Versions/3.7/lib/python3.7/site-packages (from requests<3,>=2.21.0->tensorboard~=2.4->tensorflow>=2.1.0->tf2crf) (4.0.0)\n",
      "Requirement already satisfied: idna<3,>=2.5 in /Library/Frameworks/Python.framework/Versions/3.7/lib/python3.7/site-packages (from requests<3,>=2.21.0->tensorboard~=2.4->tensorflow>=2.1.0->tf2crf) (2.10)\n",
      "Requirement already satisfied: urllib3<1.27,>=1.21.1 in /Library/Frameworks/Python.framework/Versions/3.7/lib/python3.7/site-packages (from requests<3,>=2.21.0->tensorboard~=2.4->tensorflow>=2.1.0->tf2crf) (1.26.3)\n",
      "Requirement already satisfied: certifi>=2017.4.17 in /Library/Frameworks/Python.framework/Versions/3.7/lib/python3.7/site-packages (from requests<3,>=2.21.0->tensorboard~=2.4->tensorflow>=2.1.0->tf2crf) (2020.12.5)\n",
      "Requirement already satisfied: oauthlib>=3.0.0 in /Users/benzativit/Library/Python/3.7/lib/python/site-packages (from requests-oauthlib>=0.7.0->google-auth-oauthlib<0.5,>=0.4.1->tensorboard~=2.4->tensorflow>=2.1.0->tf2crf) (3.1.0)\n",
      "Requirement already satisfied: typeguard>=2.7 in /Library/Frameworks/Python.framework/Versions/3.7/lib/python3.7/site-packages (from tensorflow-addons>=0.8.2->tf2crf) (2.11.1)\n",
      "Requirement already satisfied: zipp>=0.5 in /Users/benzativit/Library/Python/3.7/lib/python/site-packages (from importlib-metadata->markdown>=2.6.8->tensorboard~=2.4->tensorflow>=2.1.0->tf2crf) (3.4.0)\n",
      "Installing collected packages: numpy\n",
      "  Attempting uninstall: numpy\n",
      "    Found existing installation: numpy 1.20.2\n",
      "    Uninstalling numpy-1.20.2:\n",
      "      Successfully uninstalled numpy-1.20.2\n",
      "\u001b[31mERROR: pip's dependency resolver does not currently take into account all the packages that are installed. This behaviour is the source of the following dependency conflicts.\n",
      "pyldavis 3.3.1 requires numpy>=1.20.0, but you have numpy 1.19.5 which is incompatible.\u001b[0m\n",
      "Successfully installed numpy-1.20.1\n",
      "\u001b[33mWARNING: You are using pip version 21.0.1; however, version 21.1.1 is available.\n",
      "You should consider upgrading via the '/usr/local/bin/python -m pip install --upgrade pip' command.\u001b[0m\n"
     ]
    }
   ],
   "source": [
    "!pip install tf2crf\n",
    "# https://pypi.org/project/tf2crf/"
   ]
  },
  {
   "cell_type": "code",
   "execution_count": 3,
   "metadata": {},
   "outputs": [],
   "source": [
    "import json\n",
    "import numpy as np\n",
    "from collections import OrderedDict\n",
    "import tensorflow as tf\n",
    "from tensorflow.keras import layers, models, Input\n",
    "from tf2crf import CRF, ModelWithCRFLoss\n",
    "import matplotlib.pyplot as plt"
   ]
  },
  {
   "cell_type": "markdown",
   "metadata": {},
   "source": [
    "### Define Text_Processor class"
   ]
  },
  {
   "cell_type": "code",
   "execution_count": 4,
   "metadata": {},
   "outputs": [],
   "source": [
    "class Text_Processor:\n",
    "    '''\n",
    "    Class for word tokenization and model training task\n",
    "    parameters:\n",
    "        chr2vec_dic_path: character embedding dictionary path\n",
    "        model_path: path of model file, model has to be trained frist if path is not provided\n",
    "        sentence_size: max size of charater per sentence\n",
    "        overlap: overlap size (overlap size should be greater than or equal to number of convolutional layers)\n",
    "    \n",
    "    attributes:\n",
    "        model: word segmentation model\n",
    "        crf: crf model flag (for new implementation)\n",
    "        sentence_size: max size of charater per sentence\n",
    "        overlap: overlap size (overlap size should be greater than or equal to number of convolutional layers)\n",
    "        ndim: inout dimension\n",
    "        look_up_dict: look up dict for character id\n",
    "        chr_size: number of character in dict\n",
    "        chr_vec_size: character embedding size\n",
    "        embedding_matrix: look up table for chracter embedding vector\n",
    "    \n",
    "    methods: **we have 2 create_model for complatibility\n",
    "        create_model_sigmoid: create new cnn word segmentation model using sigmoid\n",
    "            conv_layer: number of convolutional layers\n",
    "            conv_chanel: channel per layer\n",
    "            kernel: kernel size\n",
    "            dropout_rate: drop out rate per layer\n",
    "            \n",
    "        create_model_crf: create new cnn word segmentation model using crf\n",
    "            conv_layer: number of convolutional layers\n",
    "            conv_chanel: channel per layer\n",
    "            kernel: kernel size\n",
    "            dropout_rate: drop out rate per layer\n",
    "            glu: if True then use gate linear unit in conv layer else use relu\n",
    "            \n",
    "        save_model: save current model\n",
    "            path: model path\n",
    "            \n",
    "        load_model: load model\n",
    "            path: model path\n",
    "            \n",
    "        text_to_x_y: transform text into data for train and test\n",
    "            text: input text\n",
    "            sep: word seperator character \n",
    "        return X, Y, dim\n",
    "            \n",
    "        text_to_x: transform text into data for word segmentation task\n",
    "            text: input text\n",
    "        return X, dim\n",
    "        \n",
    "        word_tagging: tag text with word seperator\n",
    "            text: input text\n",
    "            model: word segmentation model, if model is not provided this method will use self.model\n",
    "            sep: word seperator character  \n",
    "            theshold: theshold of predicted values\n",
    "        return segmented string with word seperator\n",
    "        \n",
    "        word_tokenizer: split text into list of words\n",
    "            text: input text\n",
    "            model: word segmentation model, if model is not provided this method will use self.model\n",
    "            theshold: theshold of predicted values\n",
    "        return list of words\n",
    "        \n",
    "        get_eval: get evaluation score\n",
    "            text: input list of text\n",
    "            theshold: assignment theshold (only use if model require it)\n",
    "            model: word segmentation model, if model is not provided this method will use self.model\n",
    "        return {'char_level': {'precision', 'recall', 'f1'}, 'word_level': {'precision', 'recall', 'f1'}}\n",
    "        \n",
    "    '''\n",
    "    def __init__(self, chr2vec_dic_path, model_path=None, crf=False, **kwargs):\n",
    "        \n",
    "        '''init parameters'''\n",
    "        self.crf = crf\n",
    "        self.sentence_size = kwargs.get('sentence_size', 100)\n",
    "        self.overlap = kwargs.get('overlap', 5)\n",
    "        self.ndim = self.sentence_size + self.overlap*2\n",
    "        \n",
    "        '''create look up dict and embedding matrix'''\n",
    "        self.look_up_dict = OrderedDict()\n",
    "        self.look_up_dict['<pad>'] = 0\n",
    "        with open(chr2vec_dic_path,'r', encoding=\"utf-8\") as f:\n",
    "            for k,v in json.load(f).items():\n",
    "                self.look_up_dict[k] = [float(i) for i in v]\n",
    "        self.chr_size = len(self.look_up_dict)\n",
    "        self.chr_vec_size = len(list(self.look_up_dict.values())[1])\n",
    "        self.look_up_dict['<pad>'] = np.zeros(self.chr_vec_size)\n",
    "        self.embedding_matrix = np.zeros((self.chr_size, self.chr_vec_size), dtype=np.float32)\n",
    "        for i, (k, v) in enumerate(self.look_up_dict.items()):\n",
    "            self.embedding_matrix[i, :] = v\n",
    "            self.look_up_dict[k] = i\n",
    "        \n",
    "        '''load model'''\n",
    "        if self.crf and model_path is not None:\n",
    "            '''for crf we have to load weight instead (bug)'''\n",
    "            self.load_model(model_path, \n",
    "                            crf = crf,\n",
    "                            conv_layer = kwargs.get('conv_layer', 5),\n",
    "                            conv_chanel = kwargs.get('conv_chanel', 100),\n",
    "                            kernel = kwargs.get('kernel', 3),\n",
    "                            dropout_rate = kwargs.get('dropout_rate', 0.2),\n",
    "                            glu = kwargs.get('glu', True)\n",
    "                           )\n",
    "        else:\n",
    "            self.model = None if model_path is None else models.load_model(model_path)\n",
    "            \n",
    "    def create_model_sigmoid(self, conv_layer=5, conv_chanel=50, kernel=3, dropout_rate=0.2):\n",
    "        \n",
    "        '''create new model and add layers'''\n",
    "        self.model = models.Sequential()\n",
    "        self.model.add(layers.InputLayer(input_shape=(self.ndim)))\n",
    "        self.model.add(layers.Embedding(self.chr_size, \n",
    "                                        self.chr_vec_size, \n",
    "                                        weights=[self.embedding_matrix], \n",
    "                                        trainable=False))\n",
    "        self.model.add(layers.Dropout(dropout_rate))\n",
    "        \n",
    "        '''create convolutional layers'''\n",
    "        for i in range(conv_layer):\n",
    "            self.model.add(layers.Conv1D(conv_chanel, \n",
    "                                         kernel, \n",
    "                                         activation='relu', \n",
    "                                         padding='same'))\n",
    "            self.model.add(layers.Dropout(dropout_rate))\n",
    "        \n",
    "        self.model.add(layers.Dense(1, activation='sigmoid'))\n",
    "        self.model.compile(optimizer='adam',\n",
    "                           loss='binary_crossentropy',\n",
    "                           metrics=['binary_accuracy'])\n",
    "        self.crf = False\n",
    "    \n",
    "    def create_model_crf(self, conv_layer=5, conv_chanel=100, kernel=3, dropout_rate=0.2, glu = True):\n",
    "        x = layers.Input(shape=(self.ndim))\n",
    "        y = layers.Embedding(self.chr_size, \n",
    "                             self.chr_vec_size, \n",
    "                             weights=[self.embedding_matrix], \n",
    "                             trainable=False)(x)\n",
    "        y = layers.Dropout(dropout_rate)(y)\n",
    "        \n",
    "        '''create convolutional layers'''\n",
    "        if glu:\n",
    "            for i in range(conv_layer):\n",
    "                y1 = layers.Conv1D(conv_chanel, kernel, padding='same')(y)\n",
    "                y2 = layers.Conv1D(conv_chanel, kernel, activation='sigmoid', padding='same')(y)\n",
    "                y = layers.Multiply()([y1,y2])\n",
    "                y = layers.Dropout(dropout_rate)(y)\n",
    "        else:\n",
    "            y = layers.Conv1D(conv_chanel, kernel, activation='relu', padding='same')(y)\n",
    "            y = layers.Dropout(dropout_rate)(y)\n",
    "            \n",
    "        y = layers.Dense(16, activation=None)(y)\n",
    "        y = CRF(dtype='float32')(y)\n",
    "        self.model = ModelWithCRFLoss(models.Model(x, y))\n",
    "        self.model.compile(optimizer='adam')\n",
    "        self.crf = True\n",
    "        \n",
    "    \n",
    "    def save_model(self, path):\n",
    "        self.model.save(path)\n",
    "    \n",
    "    def load_model(self, path, crf=False, **kwargs):\n",
    "        if self.crf:\n",
    "            self.create_model_crf(conv_layer = kwargs.get('conv_layer', 5),\n",
    "                                  conv_chanel = kwargs.get('conv_chanel', 100),\n",
    "                                  kernel = kwargs.get('kernel', 3),\n",
    "                                  dropout_rate = kwargs.get('dropout_rate', 0.2),\n",
    "                                  glu = kwargs.get('glu', True)\n",
    "                                 )\n",
    "            self.model.load_weights(path+'/variables/variables')\n",
    "            self.crf = True\n",
    "        else:\n",
    "            self.model = models.load_model(path)\n",
    "            self.crf = False\n",
    "    \n",
    "    def x_y_transformer(self, text, sep='|'):\n",
    "        \n",
    "        '''assign x_id , y_values from input text'''\n",
    "        inputs_value = list()\n",
    "        outputs_value = list()\n",
    "        for word in text.split(sep):\n",
    "            if len(word) == 0:\n",
    "                continue\n",
    "            outputs_value = outputs_value + [1] + [0]*(len(word) - 1)\n",
    "            for char in word:\n",
    "                if char == '\\n':\n",
    "                    inputs_value.append(self.look_up_dict['<pad>'])\n",
    "                elif char not in self.look_up_dict.keys():\n",
    "                    inputs_value.append(self.look_up_dict['<unk>'])\n",
    "                else:\n",
    "                    inputs_value.append(self.look_up_dict[char])\n",
    "        assert len(inputs_value) == len(outputs_value), str(len(inputs_value))+' '+str(len(outputs_value))\n",
    "        \n",
    "        '''split value into sentence size list'''\n",
    "        char_size = len(outputs_value)\n",
    "        left_over = char_size%self.sentence_size\n",
    "        n_chunk = char_size//self.sentence_size\n",
    "        inputs = []\n",
    "        outputs = []\n",
    "        ret_dim = []\n",
    "        for i in range(1, n_chunk+1+(left_over>0)):\n",
    "            \n",
    "            '''add overlap values if no value before or after, add <pad> values'''\n",
    "            if i == 1:\n",
    "                inputs_before = [self.look_up_dict['<pad>']]*self.overlap\n",
    "                outputs_before = [0]*self.overlap\n",
    "            else:\n",
    "                inputs_before = inputs_value[(i-1)*self.sentence_size-self.overlap:(i-1)*self.sentence_size]\n",
    "                inputs_before = inputs_before + [self.look_up_dict['<pad>']]*(self.overlap-len(inputs_before))\n",
    "                outputs_before = outputs_value[(i-1)*self.sentence_size-self.overlap:(i-1)*self.sentence_size]\n",
    "                outputs_before = outputs_before + [0]*(self.overlap-len(outputs_before))\n",
    "            \n",
    "            if i == n_chunk+1:\n",
    "                inputs_after = [self.look_up_dict['<pad>']]*(self.sentence_size-left_over+self.overlap)\n",
    "                outputs_after = [0]*(self.sentence_size-left_over+self.overlap)\n",
    "            else:\n",
    "                inputs_after = inputs_value[i*self.sentence_size:i*self.sentence_size+self.overlap]\n",
    "                inputs_after = inputs_after + [self.look_up_dict['<pad>']]*(self.overlap-len(inputs_after))\n",
    "                outputs_after = outputs_value[i*self.sentence_size:i*self.sentence_size+self.overlap]\n",
    "                outputs_after = outputs_after + [0]*(self.overlap-len(outputs_after))\n",
    "            \n",
    "            '''combline before + sentence size char vector + after'''\n",
    "            inputs.append(inputs_before\n",
    "                          + inputs_value[(i-1)*self.sentence_size:i*self.sentence_size]\n",
    "                          + inputs_after\n",
    "                         )\n",
    "            outputs.append(outputs_before\n",
    "                          + outputs_value[(i-1)*self.sentence_size:i*self.sentence_size]\n",
    "                          + outputs_after\n",
    "                         )\n",
    "            d = self.overlap + left_over if i == n_chunk+1 else self.overlap + self.sentence_size\n",
    "            ret_dim.append((self.overlap, d))\n",
    "            \n",
    "        return inputs, outputs, ret_dim\n",
    "    \n",
    "    def x_transformer(self, text):\n",
    "        \n",
    "        '''assign x_id from input text'''\n",
    "        inputs_value = list()\n",
    "        for char in text:\n",
    "            if char == '\\n':\n",
    "                inputs_value.append(self.look_up_dict['<pad>'])\n",
    "            elif char not in self.look_up_dict.keys():\n",
    "                inputs_value.append(self.look_up_dict['<unk>'])\n",
    "            else:\n",
    "                inputs_value.append(self.look_up_dict[char])\n",
    "                \n",
    "        '''split value into sentence size list'''\n",
    "        char_size = len(inputs_value)\n",
    "        left_over = char_size%self.sentence_size\n",
    "        n_chunk = char_size//self.sentence_size\n",
    "        inputs = []\n",
    "        ret_dim = []\n",
    "        for i in range(1, n_chunk+1+(left_over>0)):\n",
    "            \n",
    "            '''add overlap values if no value before or after, add <pad> values'''\n",
    "            if i == 1:\n",
    "                inputs_before = [self.look_up_dict['<pad>']]*self.overlap\n",
    "            else:\n",
    "                inputs_before = inputs_value[(i-1)*self.sentence_size-self.overlap:(i-1)*self.sentence_size]\n",
    "                inputs_before = inputs_before + [self.look_up_dict['<pad>']]*(self.overlap-len(inputs_before))\n",
    "\n",
    "            if i == n_chunk+1:\n",
    "                inputs_after = [self.look_up_dict['<pad>']]*(self.sentence_size-left_over+self.overlap)\n",
    "            else:\n",
    "                inputs_after = inputs_value[i*self.sentence_size:i*self.sentence_size+self.overlap]\n",
    "                inputs_after = inputs_after + [self.look_up_dict['<pad>']]*(self.overlap-len(inputs_after))\n",
    "            \n",
    "            '''combline before + sentence size char vector + after'''\n",
    "            inputs.append(inputs_before\n",
    "                          + inputs_value[(i-1)*self.sentence_size:i*self.sentence_size]\n",
    "                          + inputs_after\n",
    "                         )\n",
    "            d = self.overlap + left_over if i == n_chunk+1 else self.overlap + self.sentence_size\n",
    "            s = i == n_chunk+1\n",
    "            ret_dim.append((self.overlap, d, s))\n",
    "        \n",
    "        return inputs, ret_dim\n",
    "    \n",
    "    def text_to_x_y(self, text, sep='|'):\n",
    "        X_list = []\n",
    "        Y_list = []\n",
    "        ret_dim = []\n",
    "        if type(text) is list or type(text) is tuple:\n",
    "            text = '\\n'.join(text)\n",
    "            \n",
    "        if type(text) is str and len(text.split('\\n')) > 0:\n",
    "            text = text.split('\\n')\n",
    "            for l in text:\n",
    "                l = l.strip(sep)\n",
    "                if len(l) == 0:\n",
    "                    continue\n",
    "                X, Y, r = self.x_y_transformer(l, sep)\n",
    "                X_list.extend(X)\n",
    "                Y_list.extend(Y)\n",
    "                ret_dim.extend(r)\n",
    "        elif type(text) is str:\n",
    "            X, Y, r = self.x_y_transformer(text, sep)\n",
    "            X_list.extend(X)\n",
    "            Y_list.extend(Y)\n",
    "            ret_dim.extend(r)\n",
    "        else:\n",
    "            raise AttributeError('text is not a list nor str')\n",
    "        X_list = np.array(X_list, dtype=np.int32)    \n",
    "        Y_list = np.array(Y_list, dtype=np.int32)\n",
    "        if len(X_list.shape) == 1:\n",
    "            X_list = X_list.reshape(1, X_list.shape[0])\n",
    "            Y_list = Y_list.reshape(1, Y_list.shape[0])\n",
    "        \n",
    "        return X_list, Y_list, ret_dim\n",
    "    \n",
    "    def text_to_x(self, text):\n",
    "        X_list = []\n",
    "        ret_dim = []\n",
    "            \n",
    "        if type(text) is list or type(text) is tuple:\n",
    "            for l in text:\n",
    "                X, r = self.x_transformer(l)\n",
    "                X_list.extend(X)\n",
    "                ret_dim.extend(r)\n",
    "        elif type(text) is str:\n",
    "            X, r = self.x_transformer(text)\n",
    "            X_list.extend(X)\n",
    "            ret_dim.extend(r)\n",
    "        else:\n",
    "            raise AttributeError('text is not a list nor str')\n",
    "        X_list = np.array(X_list, dtype=np.int32)    \n",
    "        if len(X_list.shape) == 1:\n",
    "            X_list = X_list.reshape(1, X_list.shape[0])\n",
    "        \n",
    "        return X_list, ret_dim\n",
    "        \n",
    "    def word_tagging(self, text, model=None, sep='|', theshold=0.5):\n",
    "        \n",
    "        '''type check'''\n",
    "        flag = False\n",
    "        if type(text) is list or type(text) is tuple:\n",
    "            flag = True\n",
    "        elif type(text) is not str:\n",
    "            raise AttributeError('this method only accept string of text')\n",
    "            \n",
    "        '''feed to model'''\n",
    "        model = self.model if model is None else model\n",
    "        X, dim = self.text_to_x(text)\n",
    "        \n",
    "        if X.shape[0] < 256 or len(tf.config.list_physical_devices('GPU')) == 0:\n",
    "            with tf.device('/cpu:0'):\n",
    "                Y = model.predict(X)[0] if self.crf else model.predict(X)\n",
    "        else:\n",
    "            with tf.device('/gpu:0'):\n",
    "                Y = model.predict(X, batch_size=1024)[0] if self.crf else model.predict(X, batch_size=1024)\n",
    "        \n",
    "        '''process word filter vector'''\n",
    "        size = X.shape[0]\n",
    "        word_filter = []\n",
    "        sent_filter = []\n",
    "        for i in range(size):\n",
    "            word_filter.extend(Y[i, dim[i][0]: dim[i][1]].flatten().tolist())\n",
    "            s = [False]*(dim[i][1]-dim[i][0])\n",
    "            s[-1] = dim[i][2]\n",
    "            sent_filter.extend(s)\n",
    "        \n",
    "        '''add saperator character'''\n",
    "        seg_text = ''\n",
    "        prev_char = ''\n",
    "        if flag:\n",
    "            text = ''.join(text)\n",
    "        for char, fil, s in zip(text, word_filter, sent_filter):\n",
    "            seg_text += sep if fil > theshold or char == '\\n' or prev_char == '\\n' else ''\n",
    "            seg_text += char\n",
    "            seg_text += '<?/cut>' if s and flag else ''\n",
    "            prev_char = char\n",
    "        \n",
    "        if flag:\n",
    "            temp = []\n",
    "            for s in seg_text.split('<?/cut>'):\n",
    "                if len(s) > 0 and s != sep:\n",
    "                    s += sep if s[-1] != sep else ''\n",
    "                    temp.append(s)\n",
    "            seg_text = temp\n",
    "        else:\n",
    "            seg_text += sep\n",
    "                    \n",
    "        return seg_text\n",
    "    \n",
    "    def word_tokenizer(self, text, model=None, theshold=0.5):\n",
    "        seg_text = self.word_tagging(text, model, '|', theshold)\n",
    "        return seg_text.strip('|').split('|')\n",
    "    \n",
    "    def get_eval(self, text, theshold=0.5, model=None, sep='|', frankenstein=False):\n",
    "        model = self.model if model is None else model\n",
    "                \n",
    "        X, Y, dim = self.text_to_x_y(text, sep=sep)\n",
    "        X = np.array(X, dtype=np.int32)\n",
    "        Y = np.array(Y, dtype=np.int32)\n",
    "        \n",
    "        if len(X.shape) == 1:\n",
    "            X = X.reshape(1, X.shape[0])\n",
    "            Y = Y.reshape(1, Y.shape[0])\n",
    "        \n",
    "        if X.shape[0] < 256 or len(tf.config.list_physical_devices('GPU')) == 0:\n",
    "            with tf.device('/cpu:0'):\n",
    "                Y_hat = model.predict(X)[0] if self.crf else model.predict(X)\n",
    "        else:\n",
    "            with tf.device('/gpu:0'):\n",
    "                Y_hat = model.predict(X, batch_size=1024)[0] if self.crf else model.predict(X, batch_size=1024)\n",
    "        \n",
    "        size = X.shape[0]\n",
    "        Y_true = []\n",
    "        Y_pred = []\n",
    "        for i in range(size):\n",
    "            Y_true.extend(Y[i, dim[i][0]: dim[i][1]].flatten().tolist())\n",
    "            Y_pred.extend(Y_hat[i, dim[i][0]: dim[i][1]].flatten().tolist())\n",
    "        \n",
    "        '''For doctor Frankenstein only, do not touch!'''\n",
    "        if frankenstein:\n",
    "            t = ''.join(text).replace(sep, '')\n",
    "            prev = ''\n",
    "            assert len(t) == len(Y_pred), str(len(t)) + ' ' + str(len(Y_pred))\n",
    "            for i in range(len(t)):\n",
    "                if (t[i] == '.' and prev.isnumeric()) or (t[i].isnumeric() and prev == '.'):\n",
    "                    Y_pred[i] = 0\n",
    "                elif t[i] == '%' and prev.isnumeric():\n",
    "                    Y_pred[i] = 0\n",
    "                prev = t[i]\n",
    "        \n",
    "        Y_true = np.array(Y_true, dtype=np.int32)\n",
    "        Y_pred = np.array(Y_pred, dtype=np.int32) if self.crf else np.array([i > theshold for i in Y_pred]) \n",
    "        \n",
    "\n",
    "        tp = np.sum(Y_true * Y_pred)\n",
    "        fp = np.sum((1-Y_true) * Y_pred)\n",
    "        fn = np.sum(Y_true * (1-Y_pred))\n",
    "        precision = tp / (tp+fp)\n",
    "        recall = tp / (tp+fn)\n",
    "        f1 = 2 * precision * recall / (precision + recall)\n",
    "        \n",
    "        tp = 0\n",
    "        flag = False\n",
    "        for i,j in zip(Y_true, Y_pred):\n",
    "            if i and j:\n",
    "                tp += 1\n",
    "                flag = True\n",
    "            elif i != j and flag:\n",
    "                tp -= 1\n",
    "                flag = False\n",
    "        word_level_precision = tp/sum(Y_pred)\n",
    "        word_level_recall = tp/sum(Y_true)\n",
    "        word_level_f1 = 2 * word_level_precision * word_level_recall / (word_level_precision + word_level_recall)\n",
    "        \n",
    "        return {'char_level': {\n",
    "                    'precision': precision, \n",
    "                    'recall': recall, \n",
    "                    'f1': f1},\n",
    "                'word_level':{\n",
    "                    'precision': word_level_precision,\n",
    "                    'recall': word_level_recall,\n",
    "                    'f1': word_level_f1}\n",
    "               }\n"
   ]
  },
  {
   "cell_type": "markdown",
   "metadata": {},
   "source": [
    "## Modeling section"
   ]
  },
  {
   "cell_type": "markdown",
   "metadata": {},
   "source": [
    "### Initialized Text_Processor\n",
    "(choose only one model)"
   ]
  },
  {
   "cell_type": "code",
   "execution_count": 5,
   "metadata": {},
   "outputs": [],
   "source": [
    "text_proc = Text_Processor('chr2vec_w10_v50.json') #empty model"
   ]
  },
  {
   "cell_type": "code",
   "execution_count": 6,
   "metadata": {},
   "outputs": [],
   "source": [
    "#text_proc = Text_Processor('chr2vec_w10_v50.json','cnn_5_crf_glu_cut_poem_txt', crf=True, conv_layer=5, conv_chanel=100, kernel=3, dropout_rate=0.2, glu=True)"
   ]
  },
  {
   "cell_type": "markdown",
   "metadata": {},
   "source": [
    "### Read and transfrom train-test data"
   ]
  },
  {
   "cell_type": "code",
   "execution_count": 7,
   "metadata": {},
   "outputs": [],
   "source": [
    "lines = []\n",
    "with open('train_cut_poem.txt','r', encoding='utf-8') as f:\n",
    "    s = f.read().split('\\n')\n",
    "    lines.extend(s)\n",
    "X_train, Y_train, _ = text_proc.text_to_x_y(lines)\n",
    "del lines\n",
    "\n",
    "lines = []\n",
    "with open('test_cut_poem.txt','r', encoding='utf-8') as f:\n",
    "    s = f.read().split('\\n')\n",
    "    lines.extend(s)\n",
    "X_test, Y_test, _ = text_proc.text_to_x_y(lines)\n",
    "del lines"
   ]
  },
  {
   "cell_type": "code",
   "execution_count": 8,
   "metadata": {},
   "outputs": [
    {
     "name": "stdout",
     "output_type": "stream",
     "text": [
      "X_train:(232153, 110), Y_train:(232153, 110)\n",
      "X_test:(58042, 110), Y_test:(58042, 110)\n"
     ]
    }
   ],
   "source": [
    "print(f'X_train:{X_train.shape}, Y_train:{Y_train.shape}')\n",
    "print(f'X_test:{X_test.shape}, Y_test:{Y_test.shape}')"
   ]
  },
  {
   "cell_type": "markdown",
   "metadata": {},
   "source": [
    "### Create new model"
   ]
  },
  {
   "cell_type": "code",
   "execution_count": 9,
   "metadata": {},
   "outputs": [
    {
     "name": "stderr",
     "output_type": "stream",
     "text": [
      "/Users/benzativit/Library/Python/3.7/lib/python/site-packages/tensorflow/python/autograph/impl/api.py:390: UserWarning: CRF Decoding does not work with KerasTensors in TF2.4. The bug has since been fixed in tensorflow/tensorflow##45534\n",
      "  return py_builtins.overload_of(f)(*args)\n"
     ]
    }
   ],
   "source": [
    "text_proc.create_model_crf(conv_layer=5, conv_chanel=100, kernel=3, dropout_rate=0.2, glu=True)\n",
    "#text_proc.model.summary()"
   ]
  },
  {
   "cell_type": "markdown",
   "metadata": {},
   "source": [
    "### Train model"
   ]
  },
  {
   "cell_type": "code",
   "execution_count": 10,
   "metadata": {},
   "outputs": [
    {
     "name": "stdout",
     "output_type": "stream",
     "text": [
      "Epoch 1/5\n",
      "907/907 [==============================] - 556s 608ms/step - crf_loss: 24.3951 - accuracy: 0.9173 - val_crf_loss_val: 9.7458 - val_val_accuracy: 0.9661\n",
      "Epoch 2/5\n",
      "907/907 [==============================] - 553s 610ms/step - crf_loss: 10.3535 - accuracy: 0.9627 - val_crf_loss_val: 8.0402 - val_val_accuracy: 0.9716\n",
      "Epoch 3/5\n",
      "907/907 [==============================] - 511s 563ms/step - crf_loss: 8.7745 - accuracy: 0.9685 - val_crf_loss_val: 7.0478 - val_val_accuracy: 0.9752\n",
      "Epoch 4/5\n",
      "907/907 [==============================] - 534s 589ms/step - crf_loss: 7.8473 - accuracy: 0.9719 - val_crf_loss_val: 6.3125 - val_val_accuracy: 0.9780\n",
      "Epoch 5/5\n",
      "907/907 [==============================] - 512s 564ms/step - crf_loss: 7.0992 - accuracy: 0.9746 - val_crf_loss_val: 5.5951 - val_val_accuracy: 0.9808\n"
     ]
    },
    {
     "name": "stderr",
     "output_type": "stream",
     "text": [
      "/Library/Frameworks/Python.framework/Versions/3.7/lib/python3.7/site-packages/tensorflow_addons/text/crf.py:540: UserWarning: CRF Decoding does not work with KerasTensors in TF2.4. The bug has since been fixed in tensorflow/tensorflow##45534\n",
      "  \"CRF Decoding does not work with KerasTensors in TF2.4. The bug has since been fixed in tensorflow/tensorflow##45534\"\n",
      "/Users/benzativit/Library/Python/3.7/lib/python/site-packages/tensorflow/python/autograph/impl/api.py:390: UserWarning: CRF Decoding does not work with KerasTensors in TF2.4. The bug has since been fixed in tensorflow/tensorflow##45534\n",
      "  return py_builtins.overload_of(f)(*args)\n",
      "/Users/benzativit/Library/Python/3.7/lib/python/site-packages/tensorflow/python/autograph/impl/api.py:390: UserWarning: CRF Decoding does not work with KerasTensors in TF2.4. The bug has since been fixed in tensorflow/tensorflow##45534\n",
      "  return py_builtins.overload_of(f)(*args)\n",
      "/Library/Frameworks/Python.framework/Versions/3.7/lib/python3.7/site-packages/tensorflow_addons/text/crf.py:540: UserWarning: CRF Decoding does not work with KerasTensors in TF2.4. The bug has since been fixed in tensorflow/tensorflow##45534\n",
      "  \"CRF Decoding does not work with KerasTensors in TF2.4. The bug has since been fixed in tensorflow/tensorflow##45534\"\n"
     ]
    },
    {
     "name": "stdout",
     "output_type": "stream",
     "text": [
      "INFO:tensorflow:Assets written to: cnn_5_crf_glu_cut_poem_txt/assets\n"
     ]
    }
   ],
   "source": [
    "with tf.device('/gpu:0' if len(tf.config.list_physical_devices('GPU')) > 0 else '/cpu:0'):\n",
    "    history = text_proc.model.fit(X_train, Y_train, batch_size=256, validation_data=(X_test, Y_test), epochs=5)\n",
    "text_proc.save_model('cnn_5_crf_glu_cut_poem_txt')"
   ]
  },
  {
   "cell_type": "code",
   "execution_count": 11,
   "metadata": {},
   "outputs": [
    {
     "data": {
      "image/png": "[encoded data removed]",
      "text/plain": [
       "<Figure size 432x288 with 1 Axes>"
      ]
     },
     "metadata": {
      "needs_background": "light"
     },
     "output_type": "display_data"
    }
   ],
   "source": [
    "plt.plot(history.history['accuracy'])\n",
    "plt.plot(history.history['val_val_accuracy'])\n",
    "plt.title('model accuracy')\n",
    "plt.ylabel('accuracy')\n",
    "plt.xlabel('epoch')\n",
    "plt.legend(['train', 'test'], loc='upper left')\n",
    "plt.savefig('cnn_5_crf_glu_cut_poem_txt_acc.png', dpi=480)\n",
    "plt.show()"
   ]
  },
  {
   "cell_type": "code",
   "execution_count": 12,
   "metadata": {},
   "outputs": [
    {
     "data": {
      "image/png": "[encoded data removed]",
      "text/plain": [
       "<Figure size 432x288 with 1 Axes>"
      ]
     },
     "metadata": {
      "needs_background": "light"
     },
     "output_type": "display_data"
    }
   ],
   "source": [
    "plt.plot(history.history['crf_loss'])\n",
    "plt.plot(history.history['val_crf_loss_val'])\n",
    "plt.title('model loss')\n",
    "plt.ylabel('loss')\n",
    "plt.xlabel('epoch')\n",
    "plt.legend(['train', 'test'], loc='upper left')\n",
    "plt.savefig('cnn_5_crf_glu_cut_poem_txt_loss.png', dpi=480)\n",
    "plt.show()"
   ]
  },
  {
   "cell_type": "code",
   "execution_count": 10,
   "metadata": {},
   "outputs": [],
   "source": [
    "# with open('cnn_5_crf_glu_cut_poem_txt.json', 'w') as f:\n",
    "#     json.dump(history.history, f)"
   ]
  },
  {
   "cell_type": "markdown",
   "metadata": {},
   "source": [
    "## Evaluation"
   ]
  },
  {
   "cell_type": "code",
   "execution_count": 13,
   "metadata": {},
   "outputs": [
    {
     "name": "stderr",
     "output_type": "stream",
     "text": [
      "/Users/benzativit/Library/Python/3.7/lib/python/site-packages/tensorflow/python/autograph/impl/api.py:390: UserWarning: CRF Decoding does not work with KerasTensors in TF2.4. The bug has since been fixed in tensorflow/tensorflow##45534\n",
      "  return py_builtins.overload_of(f)(*args)\n"
     ]
    }
   ],
   "source": [
    "text_proc = Text_Processor('chr2vec_w10_v50.json','cnn_5_crf_glu_cut_poem_txt_epoch40', crf=True, conv_layer=5, conv_chanel=100, kernel=3, dropout_rate=0.2, glu=True)"
   ]
  },
  {
   "cell_type": "code",
   "execution_count": 14,
   "metadata": {},
   "outputs": [],
   "source": [
    "lines = []\n",
    "with open('test_cut_poem.txt','r', encoding='utf-8') as f:\n",
    "    s = f.read().split('\\n')\n",
    "    lines.extend(s)"
   ]
  },
  {
   "cell_type": "code",
   "execution_count": 15,
   "metadata": {},
   "outputs": [
    {
     "data": {
      "text/plain": [
       "{'char_level': {'precision': 0.9695302984165651,\n",
       "  'recall': 0.9894761562543591,\n",
       "  'f1': 0.9794016867703618},\n",
       " 'word_level': {'precision': 0.941122937659174,\n",
       "  'recall': 0.9604843793315947,\n",
       "  'f1': 0.9507050930817249}}"
      ]
     },
     "execution_count": 15,
     "metadata": {},
     "output_type": "execute_result"
    }
   ],
   "source": [
    "text_proc.get_eval(lines)"
   ]
  },
  {
   "cell_type": "markdown",
   "metadata": {},
   "source": [
    "## Appiled model to text segmentation task"
   ]
  },
  {
   "cell_type": "code",
   "execution_count": 16,
   "metadata": {},
   "outputs": [],
   "source": [
    "text_proc = Text_Processor('chr2vec_w10_v50.json','cnn_5_crf_glu_cut_poem_txt_epoch40', crf=True, conv_layer=5, conv_chanel=100, kernel=3, dropout_rate=0.2, glu=True)"
   ]
  },
  {
   "cell_type": "code",
   "execution_count": 17,
   "metadata": {},
   "outputs": [
    {
     "data": {
      "text/plain": [
       "['|กิน|ข้าว|ที่|ไหน|ดี|?|',\n",
       " '|ไป|กิน|ที่| |MK| |มั้ย|?| |หรือ|จะ|ไป|ร้าน|ตาม|สั่ง|']"
      ]
     },
     "execution_count": 17,
     "metadata": {},
     "output_type": "execute_result"
    }
   ],
   "source": [
    "text = ['กินข้าวที่ไหนดี?','ไปกินที่ MK มั้ย? หรือจะไปร้านตามสั่ง']\n",
    "text_proc.word_tagging(text)"
   ]
  },
  {
   "cell_type": "code",
   "execution_count": 18,
   "metadata": {},
   "outputs": [
    {
     "data": {
      "text/plain": [
       "'|ธนาคารกรุงไทย|สร้าง|ปรากฏการณ์|ครั้ง|ใหม่| |สู้|ศึก|ดิจิทัล|ใน|วงการ|ธนาคารไทย|ที่|แข่งขัน|กัน|อย่าง|ดุ|เดือด| |ด้วย|การ|เปิด|ตัว|บริษัท|ลูก| |อินฟินิธัส| |บาย| |กรุงไทย จำกัด| |(|Infinitas| |by| |Krungthai|)| |ทำ|การ|วิจัย|และ|พัฒนา|ผลิตภัณฑ์|ทาง|การ|เงิน|ดิจิทัล|รูปแบบ|ใหม่|'"
      ]
     },
     "execution_count": 18,
     "metadata": {},
     "output_type": "execute_result"
    }
   ],
   "source": [
    "text = 'ธนาคารกรุงไทยสร้างปรากฏการณ์ครั้งใหม่ สู้ศึกดิจิทัลในวงการธนาคารไทยที่แข่งขันกันอย่างดุเดือด ด้วยการเปิดตัวบริษัทลูก อินฟินิธัส บาย กรุงไทย จำกัด (Infinitas by Krungthai) ทำการวิจัยและพัฒนาผลิตภัณฑ์ทางการเงินดิจิทัลรูปแบบใหม่'\n",
    "text_proc.word_tagging(text)"
   ]
  },
  {
   "cell_type": "code",
   "execution_count": 19,
   "metadata": {},
   "outputs": [
    {
     "data": {
      "text/plain": [
       "'|ไมโครซอฟท์|ประกาศ|แยก|ส่วน|ฟีเจอร์|ใหม่|ๆ| |ของ| |Windows| |Insider| |ออก|มา|เป็น| |Windows| |Feature| |Experience| |Pack| |ต่างหาก| |เพื่อ|ปล่อย|อัพเดต|ผ่าน| |Windows| |Update| |ได้|รวดเร็ว|กว่า|เดิม| |เพราะ|ไม่|ต้อง|รอ| |Build| |ใหม่|ของ| |Insider|'"
      ]
     },
     "execution_count": 19,
     "metadata": {},
     "output_type": "execute_result"
    }
   ],
   "source": [
    "text = 'ไมโครซอฟท์ประกาศแยกส่วนฟีเจอร์ใหม่ๆ ของ Windows Insider ออกมาเป็น Windows Feature Experience Pack ต่างหาก เพื่อปล่อยอัพเดตผ่าน Windows Update ได้รวดเร็วกว่าเดิม เพราะไม่ต้องรอ Build ใหม่ของ Insider'\n",
    "text_proc.word_tagging(text)"
   ]
  },
  {
   "cell_type": "code",
   "execution_count": 20,
   "metadata": {},
   "outputs": [
    {
     "data": {
      "text/plain": [
       "'|Zoom| |รายงาน|ผล|ประกอบ|การ|ประจำ|ไตรมาส|ที่| |3| |ตาม|ปี|การ|เงิน|บริษัท| |2021| |สิ้นสุด|วัน|ที่| |31| |ตุลาคม| |2020| |ราย|ได้|รวม|เพิ่ม|ขึ้น| |367|%| |เทียบ|กับ|ช่วง|เดียว|กัน|ใน|ปี|ก่อน|เป็น| |777|.|7| |ล้าน|ดอลลาร์| |และ|มี|กำไร|สุทธิ|แบบ| |GAPP| |198|.|4| |ล้าน|ดอลลาร์|'"
      ]
     },
     "execution_count": 20,
     "metadata": {},
     "output_type": "execute_result"
    }
   ],
   "source": [
    "text = 'Zoom รายงานผลประกอบการประจำไตรมาสที่ 3 ตามปีการเงินบริษัท 2021 สิ้นสุดวันที่ 31 ตุลาคม 2020 รายได้รวมเพิ่มขึ้น 367% เทียบกับช่วงเดียวกันในปีก่อนเป็น 777.7 ล้านดอลลาร์ และมีกำไรสุทธิแบบ GAPP 198.4 ล้านดอลลาร์'\n",
    "text_proc.word_tagging(text)"
   ]
  },
  {
   "cell_type": "code",
   "execution_count": 21,
   "metadata": {},
   "outputs": [
    {
     "data": {
      "text/plain": [
       "'|Although| |GLU| |turns| |out| |to| |be| |intrinsically| |simple|,| |the| |description| |of| |GLU| |from| |the| |original| |paper| |has| |been| |confusing| |to| |some| |of| |the| |readers|.| |When| |I| |worked| |on| |the| |CycleGAN| |based| |voice| |conversion|,| |I| |did| |not| |implement| |correctly| |for| |the| |first| |time|.| |After| |a| |few| |years| |when| |I| |looked| |back| |at| |the| |paper|,| |I| |almost| |misunderstood| |it| |again|.| |The| |official| |PyTorch| |GLU| |function| |was| |also| |very| |confusing| |to| |the| |users|.|'"
      ]
     },
     "execution_count": 21,
     "metadata": {},
     "output_type": "execute_result"
    }
   ],
   "source": [
    "text = 'Although GLU turns out to be intrinsically simple, the description of GLU from the original paper has been confusing to some of the readers. When I worked on the CycleGAN based voice conversion, I did not implement correctly for the first time. After a few years when I looked back at the paper, I almost misunderstood it again. The official PyTorch GLU function was also very confusing to the users.'\n",
    "text_proc.word_tagging(text)"
   ]
  },
  {
   "cell_type": "code",
   "execution_count": 22,
   "metadata": {},
   "outputs": [
    {
     "data": {
      "text/plain": [
       "'|กนก|คน|ตลกชวน|ดวง|กมล|คน|ผอม|รอชมภมรดม|ดอม|ดอก|ขจร|สอง|คน|ชอบ|จอด|รถ|ตรง|ตรอก|ยอม|ทนอด|นอน|อด|กรน|รอยลภมรดม|ดอก|หอม|บน|ขอน|ตรง|คลองมอญ|ลม|บน|หวน|สอบ|จน|ปอย|ผม|ปรกคอ|สอง|สมรสมพร|คน|จร|พบ|สอง|อรชรสมพร|ปอง|สอง|สมร|ยอม|ลง|คลองลอย|คอ|มอง|สอง|อรชร|มอง|อก|มอง|คอ|มอง|ผม|มอง|จน|สอง|คน|ฉงนสมพร|บอก|ชวน|สอง|คน|ถอน|สมอ|ลง|ชลลองวอน|สอง|หน|สอง|อรชรถอย|หลบ|สมพร|วอน|จน|พล|พรรค|สด|สวย|หมด|สนกรก|นกชวน|ดวง|กมลชงนม|ผง|รอชมภมร|บนดอน|ฝน|ตก|ตลอดจน|ถนน|ปอน|จอม|ปลวก|ตรง|ตรอก|จอด|รถ|ถลอก|ปอก|ลง|สอง|สมร|มอง|นกปรอท|จ|ก|มดจก|ปลวก|จก|หนอน|ลง|คอสมพร|คง|ลอย|คอ|ลอยวน|บอก|สอ|พลอ|คน|สวย|ผสม|บท|สวด|ของ|ขอม|คน|หนอ|คน|สมพร|สวดวน|จน|อรชร|สอง|คน|ฉงน|ฉงวย|งวย|งงคอ|ตก|ยอม|นอน|ลง|บน|บก|สมพรยก|ซอง|ผง|ทอง|ปลอม|ผสม|ลง|นมชง|ของ|สอง|สมรสมพร|ถอน|ผม|นวล|ลออ|สอง|คน|ปน|ผสม|ตอน|หลอม|รวม|นม|ชงสมพร|สวด|บท|ขอม|ถอย|ว|กวน|หก|หน|ขอ|วรรค|ตอนวอน|ผอง|ชน|จงอวย|พร|สอง|ดวง|สมร|รอด|ปลอด|นรก|คน|คน|จร|หมอน|สกปรก|ฝน|ตก|จน|จอม|ปลวก|ยวบ|ลง|มด|ปลวก|หนอน|ออก|ซอกซอน|ลง|ผสม|นม|ชง|จน|บท|สวด|หมด|ผล|สมพร|คน|สกปรก|คง|หลง|ยก|นม|ชง|ซด|ลง|คอ|รอ|ครอบครอง|สอง|คน|สวย|ปลวก|มด|หนอนอลวน|ซอกซอน|จน|สมพร|ปวด|คอง|อ|ลง|หอน|นอน|ครวญ|นอน|หงอซม|บน|กอง|หนอนกอง|ปลวกรอ|หมอ|ตรวจ|ลม|ฝน|สงบ|ลง|ผอง|ปวง|ชน|พล|พรรค|ครบ|คน|ของ|สอง|อรชรยกพลสมทบ|ชก|ถอง|หวด|ตบ|สมพร|จน|ถดถอย|ตกตม|จม|ลง|คลอง|'"
      ]
     },
     "execution_count": 22,
     "metadata": {},
     "output_type": "execute_result"
    }
   ],
   "source": [
    "text = '''กนกคนตลกชวนดวงกมลคนผอมรอชมภมรดมดอมดอกขจรสองคนชอบจอดรถตรงตรอกยอมทนอดนอนอดกรนรอยลภมรดมดอกหอมบนขอนตรงคลอง\n",
    "มอญลมบนหวนสอบจนปอยผมปรกคอสองสมรสมพรคนจรพบสองอรชรสมพรปองสองสมรยอมลงคลองลอยคอมองสองอรชรมองอกมองคอมองผมมอง\n",
    "จนสองคนฉงนสมพรบอกชวนสองคนถอนสมอลงชลลองวอนสองหนสองอรชรถอยหลบสมพรวอนจนพลพรรคสดสวยหมดสนกรกนกชวนดวงกมลชงนม\n",
    "ผงรอชมภมรบนดอนฝนตกตลอดจนถนนปอนจอมปลวกตรงตรอกจอดรถถลอกปอกลงสองสมรมองนกปรอทจกมดจกปลวกจกหนอนลงคอสมพรคงลอย\n",
    "คอลอยวนบอกสอพลอคนสวยผสมบทสวดของขอมคนหนอคนสมพรสวดวนจนอรชรสองคนฉงนฉงวยงวยงงคอตกยอมนอนลงบนบกสมพรยกซองผงทอง\n",
    "ปลอมผสมลงนมชงของสองสมรสมพรถอนผมนวลลออสองคนปนผสมตอนหลอมรวมนมชงสมพรสวดบทขอมถอยวกวนหกหนขอวรรคตอนวอนผองชนจง\n",
    "อวยพรสองดวงสมรรอดปลอดนรกคนคนจรหมอนสกปรกฝนตกจนจอมปลวกยวบลงมดปลวกหนอนออกซอกซอนลงผสมนมชงจนบทสวดหมดผลสมพร\n",
    "คนสกปรกคงหลงยกนมชงซดลงคอรอครอบครองสองคนสวยปลวกมดหนอนอลวนซอกซอนจนสมพรปวดคองอลงหอนนอนครวญนอนหงอซมบนกอง\n",
    "หนอนกองปลวกรอหมอตรวจลมฝนสงบลงผองปวงชนพลพรรคครบคนของสองอรชรยกพลสมทบชกถองหวดตบสมพรจนถดถอยตกตมจมลงคลอง'''.replace('\\n','')\n",
    "text_proc.word_tagging(text)"
   ]
  },
  {
   "cell_type": "code",
   "execution_count": 24,
   "metadata": {},
   "outputs": [
    {
     "data": {
      "text/plain": [
       "['|2|,|000|.|50| |บาท|',\n",
       " '|50|.|12|%|',\n",
       " '|www.blognone.com|',\n",
       " '|https://www.blognone.com/node|/|119894|']"
      ]
     },
     "execution_count": 24,
     "metadata": {},
     "output_type": "execute_result"
    }
   ],
   "source": [
    "text = ['2,000.50 บาท', '50.12%', 'www.blognone.com', 'https://www.blognone.com/node/119894']\n",
    "text_proc.word_tagging(text)"
   ]
  },
  {
   "cell_type": "code",
   "execution_count": null,
   "metadata": {},
   "outputs": [],
   "source": []
  }
 ],
 "metadata": {
  "kernelspec": {
   "display_name": "Python 3",
   "language": "python",
   "name": "python3"
  },
  "language_info": {
   "codemirror_mode": {
    "name": "ipython",
    "version": 3
   },
   "file_extension": ".py",
   "mimetype": "text/x-python",
   "name": "python",
   "nbconvert_exporter": "python",
   "pygments_lexer": "ipython3",
   "version": "3.7.9"
  }
 },
 "nbformat": 4,
 "nbformat_minor": 4
}

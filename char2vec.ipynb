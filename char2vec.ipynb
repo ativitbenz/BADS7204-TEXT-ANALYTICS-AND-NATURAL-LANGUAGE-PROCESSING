{
 "cells": [
  {
   "cell_type": "code",
   "execution_count": 2,
   "metadata": {},
   "outputs": [],
   "source": [
    "from gensim.models import Word2Vec\n",
    "import os\n",
    "import re\n",
    "import json"
   ]
  },
  {
   "cell_type": "markdown",
   "metadata": {},
   "source": [
    "# from train"
   ]
  },
  {
   "cell_type": "code",
   "execution_count": 7,
   "metadata": {},
   "outputs": [],
   "source": [
    "file = os.getcwd()+'\\\\train_cut_poem.txt'"
   ]
  },
  {
   "cell_type": "code",
   "execution_count": 8,
   "metadata": {},
   "outputs": [
    {
     "data": {
      "text/plain": [
       "119597"
      ]
     },
     "execution_count": 8,
     "metadata": {},
     "output_type": "execute_result"
    }
   ],
   "source": [
    "char_list = []\n",
    "with open(file, 'r', encoding=\"utf-8\") as f:\n",
    "    for line in f.read().split('\\n'):\n",
    "        char_list.append(list(re.sub('\\|', '', line)))\n",
    "len(char_list)"
   ]
  },
  {
   "cell_type": "markdown",
   "metadata": {},
   "source": [
    "# create"
   ]
  },
  {
   "cell_type": "code",
   "execution_count": 13,
   "metadata": {},
   "outputs": [],
   "source": [
    "for i in range(len(char_list)):\n",
    "    for j in range(len(char_list[i])):\n",
    "        if char_list[i][j] in ['}','~','^','$']:\n",
    "            char_list[i][j] = '<unk>'"
   ]
  },
  {
   "cell_type": "code",
   "execution_count": 14,
   "metadata": {},
   "outputs": [
    {
     "name": "stdout",
     "output_type": "stream",
     "text": [
      "172\n"
     ]
    },
    {
     "data": {
      "text/plain": [
       "[('ฅ', 5),\n",
       " ('<unk>', 10),\n",
       " ('ๅ', 11),\n",
       " ('#', 16),\n",
       " ('ฃ', 26),\n",
       " ('‘', 30),\n",
       " ('’', 30),\n",
       " ('Q', 34),\n",
       " ('<', 36),\n",
       " ('X', 42),\n",
       " ('@', 49),\n",
       " ('\\\\', 61),\n",
       " ('>', 62),\n",
       " ('Z', 65),\n",
       " ('ํ', 83),\n",
       " ('ฺ', 89),\n",
       " ('ฌ', 109),\n",
       " ('_', 117),\n",
       " ('q', 131),\n",
       " ('Y', 166),\n",
       " ('&', 171),\n",
       " ('j', 181),\n",
       " (';', 190),\n",
       " ('V', 211),\n",
       " ('*', 224),\n",
       " ('=', 248),\n",
       " ('[', 279),\n",
       " (']', 279),\n",
       " ('J', 342),\n",
       " ('z', 380),\n",
       " ('x', 490),\n",
       " ('%', 540),\n",
       " ('F', 601),\n",
       " (\"'\", 620),\n",
       " ('G', 834),\n",
       " ('B', 884),\n",
       " ('ฬ', 1008),\n",
       " ('R', 1021),\n",
       " ('I', 1129),\n",
       " ('v', 1413),\n",
       " ('k', 1425),\n",
       " ('S', 1493),\n",
       " ('U', 1494),\n",
       " ('b', 1558),\n",
       " ('๙', 1605),\n",
       " ('P', 1606),\n",
       " ('๗', 1637),\n",
       " ('๘', 1781),\n",
       " ('H', 1805),\n",
       " ('O', 1826),\n",
       " ('๖', 1845),\n",
       " ('D', 1888),\n",
       " ('L', 1890),\n",
       " ('+', 1909),\n",
       " ('N', 2151),\n",
       " ('!', 2183),\n",
       " ('M', 2232),\n",
       " ('f', 2271),\n",
       " ('ฑ', 2335),\n",
       " ('w', 2364),\n",
       " (':', 2420),\n",
       " ('y', 2459),\n",
       " ('/', 2529),\n",
       " ('K', 2538),\n",
       " ('T', 2600),\n",
       " ('C', 2661),\n",
       " ('ฆ', 2671),\n",
       " ('A', 2858),\n",
       " ('E', 3045),\n",
       " ('g', 3141),\n",
       " ('๋', 3301),\n",
       " ('๔', 3518),\n",
       " ('p', 3596),\n",
       " ('W', 3788),\n",
       " ('๓', 3958),\n",
       " ('ฮ', 4270),\n",
       " ('m', 4477),\n",
       " ('d', 4543),\n",
       " ('๕', 4584),\n",
       " ('u', 4745),\n",
       " ('8', 4763),\n",
       " ('7', 4780),\n",
       " ('ฤ', 5086),\n",
       " ('h', 5211),\n",
       " ('๊', 5293),\n",
       " ('9', 5377),\n",
       " ('?', 5442),\n",
       " ('c', 5516),\n",
       " ('6', 5525),\n",
       " ('๐', 5615),\n",
       " ('ฒ', 6392),\n",
       " ('ฏ', 6555),\n",
       " ('๑', 6710),\n",
       " ('ฎ', 6761),\n",
       " ('l', 6877),\n",
       " ('ฯ', 7010),\n",
       " ('๒', 7840),\n",
       " ('s', 8008),\n",
       " (',', 8022),\n",
       " ('4', 9107),\n",
       " ('3', 9251),\n",
       " ('r', 9725),\n",
       " ('-', 10020),\n",
       " ('5', 10905),\n",
       " ('n', 11209),\n",
       " ('t', 11280),\n",
       " ('o', 11426),\n",
       " ('ฝ', 12884),\n",
       " ('i', 12949),\n",
       " ('a', 13605),\n",
       " ('e', 14745),\n",
       " ('(', 14788),\n",
       " (')', 15145),\n",
       " ('ฟ', 15436),\n",
       " ('0', 15996),\n",
       " ('2', 16294),\n",
       " ('ฉ', 17410),\n",
       " ('1', 17523),\n",
       " ('ฐ', 20979),\n",
       " ('ๆ', 25651),\n",
       " ('ซ', 36249),\n",
       " ('ภ', 40813),\n",
       " ('ษ', 41246),\n",
       " ('ญ', 44549),\n",
       " ('ธ', 55995),\n",
       " ('ศ', 56386),\n",
       " ('ณ', 62639),\n",
       " ('\"', 66839),\n",
       " ('ถ', 72610),\n",
       " ('ผ', 72985),\n",
       " ('โ', 74083),\n",
       " ('ึ', 85242),\n",
       " ('์', 85706),\n",
       " ('.', 107148),\n",
       " ('ำ', 120592),\n",
       " ('ู', 142073),\n",
       " ('็', 146246),\n",
       " ('ุ', 151482),\n",
       " ('ช', 162891),\n",
       " ('ใ', 177495),\n",
       " ('ื', 179778),\n",
       " ('ข', 185818),\n",
       " ('พ', 196373),\n",
       " ('แ', 221542),\n",
       " ('ไ', 223433),\n",
       " ('จ', 234083),\n",
       " ('ป', 264441),\n",
       " ('ค', 271214),\n",
       " ('บ', 274850),\n",
       " ('ส', 287846),\n",
       " ('ิ', 292133),\n",
       " ('ต', 305398),\n",
       " ('ะ', 305644),\n",
       " ('ห', 319379),\n",
       " ('ท', 346284),\n",
       " ('ด', 354019),\n",
       " ('ล', 378345),\n",
       " ('ี', 407219),\n",
       " ('ว', 441627),\n",
       " ('ย', 472136),\n",
       " ('ั', 497241),\n",
       " (' ', 538557),\n",
       " ('ม', 568029),\n",
       " ('เ', 578828),\n",
       " ('้', 596940),\n",
       " ('ง', 620488),\n",
       " ('อ', 669483),\n",
       " ('ก', 672128),\n",
       " ('่', 746382),\n",
       " ('ร', 759790),\n",
       " ('น', 939103),\n",
       " ('า', 1115608)]"
      ]
     },
     "execution_count": 14,
     "metadata": {},
     "output_type": "execute_result"
    }
   ],
   "source": [
    "d = dict()\n",
    "for line in char_list:\n",
    "    for c in line:\n",
    "        d[c] = d.get(c, 0) + 1\n",
    "print(len(d))\n",
    "sorted(d.items(), key= lambda x:x[1])"
   ]
  },
  {
   "cell_type": "code",
   "execution_count": 15,
   "metadata": {},
   "outputs": [],
   "source": [
    "model = Word2Vec(sentences=char_list, size=50, window=10, sg=1)"
   ]
  },
  {
   "cell_type": "code",
   "execution_count": 16,
   "metadata": {},
   "outputs": [],
   "source": [
    "ce = dict()\n",
    "for c in model.wv.vocab:\n",
    "    ce[c] = [str(i) for i in model.wv[c]]"
   ]
  },
  {
   "cell_type": "code",
   "execution_count": 17,
   "metadata": {},
   "outputs": [],
   "source": [
    "with open('chr2vec_w10_v50.json','w', encoding=\"utf-8\") as f:\n",
    "    json.dump(ce, f)"
   ]
  }
 ],
 "metadata": {
  "kernelspec": {
   "display_name": "Python 3",
   "language": "python",
   "name": "python3"
  },
  "language_info": {
   "codemirror_mode": {
    "name": "ipython",
    "version": 3
   },
   "file_extension": ".py",
   "mimetype": "text/x-python",
   "name": "python",
   "nbconvert_exporter": "python",
   "pygments_lexer": "ipython3",
   "version": "3.7.9"
  }
 },
 "nbformat": 4,
 "nbformat_minor": 4
}

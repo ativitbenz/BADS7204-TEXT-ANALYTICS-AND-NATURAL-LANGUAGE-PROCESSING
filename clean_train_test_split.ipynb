{
 "cells": [
  {
   "cell_type": "code",
   "execution_count": 6,
   "metadata": {},
   "outputs": [],
   "source": [
    "import os\n",
    "import random\n",
    "import re"
   ]
  },
  {
   "cell_type": "code",
   "execution_count": 7,
   "metadata": {},
   "outputs": [],
   "source": [
    "cwd = os.getcwd()\n",
    "data_dir = cwd+'\\\\data_BEST\\\\BEST-TrainingSet\\\\'\n",
    "data_cat = os.listdir(data_dir)"
   ]
  },
  {
   "cell_type": "code",
   "execution_count": 8,
   "metadata": {},
   "outputs": [
    {
     "data": {
      "text/plain": [
       "149496"
      ]
     },
     "execution_count": 8,
     "metadata": {},
     "output_type": "execute_result"
    }
   ],
   "source": [
    "lines = []\n",
    "for c in data_cat:\n",
    "    d = data_dir+c+'\\\\'\n",
    "    for i in os.listdir(d):\n",
    "        with open(d+i, encoding=\"utf-8\") as f:\n",
    "            #lines.extend(re.sub(u'<NE>.*</NE>|<AB>|</AB>|<POEM>.*</POEM>','',f.read()).split('\\n'))\n",
    "            s = f.read()\n",
    "            s = re.sub(u'\\ufeff|<AB>|</AB>|<NE>|</NE>','',s)\n",
    "            s = re.sub(u'<POEM>','<cut><?poem>',s)\n",
    "            s = re.sub(u'</POEM>','<cut>',s)\n",
    "            t = []\n",
    "            for txt in s.split('<cut>'):\n",
    "                if '<?poem>' not in txt:\n",
    "                    t.append(txt)\n",
    "            ns = []\n",
    "            for l in ''.join(t).split('\\n'):\n",
    "                nw = []\n",
    "                for w in l.split('|'):\n",
    "                    if 0 < len(w) <= 101 and not (\n",
    "                          False\n",
    "#                         'http' in w or \n",
    "#                         'www.' in w or \n",
    "#                         'http://citebase.eprints.org/cgi-bin/citations?id=oai%3AarXiv%2Eorg%3Ahep%2Dth%2F0203101' in w or\n",
    "#                         'http://caselaw.lp.findlaw.com/scripts/getcase.pl?court=US&amp;vol=000&amp;invol=01-618' in w or\n",
    "#                         'http://web.amnesty.org/library/Index/ENGASA390132004?open&amp;of=ENG-THA' in w or\n",
    "#                         'http://web.amnesty.org/library/index/ENGASA390132004?open&amp;of=ENG-THA' in w or\n",
    "#                         '/11/08/international/europe/08police.html?pagewanted=print.' in w or\n",
    "#                         'research/areas/ieg/research_reports/ieg_rr141003.pdf>' in w\n",
    "                        \n",
    "                    ):\n",
    "                        nw.append(w)\n",
    "                ns.append('|'.join(nw))\n",
    "            lines.extend(ns)\n",
    "len(lines)"
   ]
  },
  {
   "cell_type": "code",
   "execution_count": 9,
   "metadata": {},
   "outputs": [
    {
     "name": "stdout",
     "output_type": "stream",
     "text": [
      "149496 119596 29900\n"
     ]
    }
   ],
   "source": [
    "random.shuffle(lines)\n",
    "rate = int(len(lines)*0.8)\n",
    "train_lines = lines[:rate]\n",
    "test_lines = lines[rate:]\n",
    "print(len(lines), len(train_lines), len(test_lines))"
   ]
  },
  {
   "cell_type": "code",
   "execution_count": 10,
   "metadata": {},
   "outputs": [],
   "source": [
    "with open('train_cut_poem.txt', 'w', encoding=\"utf-8\") as f:\n",
    "    for i in train_lines:\n",
    "        f.writelines(i+'\\n')\n",
    "with open('test_cut_poem.txt', 'w', encoding=\"utf-8\") as f:\n",
    "    for i in test_lines:\n",
    "        f.writelines(i+'\\n')"
   ]
  },
  {
   "cell_type": "code",
   "execution_count": 11,
   "metadata": {},
   "outputs": [],
   "source": [
    "del lines"
   ]
  },
  {
   "cell_type": "code",
   "execution_count": null,
   "metadata": {},
   "outputs": [],
   "source": []
  }
 ],
 "metadata": {
  "kernelspec": {
   "display_name": "Python 3",
   "language": "python",
   "name": "python3"
  },
  "language_info": {
   "codemirror_mode": {
    "name": "ipython",
    "version": 3
   },
   "file_extension": ".py",
   "mimetype": "text/x-python",
   "name": "python",
   "nbconvert_exporter": "python",
   "pygments_lexer": "ipython3",
   "version": "3.7.9"
  }
 },
 "nbformat": 4,
 "nbformat_minor": 4
}
